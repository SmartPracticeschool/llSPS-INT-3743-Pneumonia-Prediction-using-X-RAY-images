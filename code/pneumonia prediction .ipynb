{
 "cells": [
  {
   "cell_type": "code",
   "execution_count": 37,
   "metadata": {},
   "outputs": [],
   "source": [
    "import tensorflow as tf\n",
    "import numpy as np\n",
    "import pandas as pd\n"
   ]
  },
  {
   "cell_type": "code",
   "execution_count": 38,
   "metadata": {},
   "outputs": [],
   "source": [
    "from keras.models import Sequential \n",
    "from keras.layers import Dense \n",
    "from keras.layers import Convolution2D\n",
    "from keras.layers import MaxPooling2D\n",
    "from keras.layers import Flatten"
   ]
  },
  {
   "cell_type": "code",
   "execution_count": 39,
   "metadata": {},
   "outputs": [],
   "source": [
    "model = Sequential()"
   ]
  },
  {
   "cell_type": "code",
   "execution_count": 40,
   "metadata": {},
   "outputs": [],
   "source": [
    "model.add(Convolution2D(32,(3,3),input_shape = (64,64,3,),activation = 'relu'))"
   ]
  },
  {
   "cell_type": "code",
   "execution_count": 41,
   "metadata": {},
   "outputs": [],
   "source": [
    "model.add(MaxPooling2D(pool_size=(2,2)))"
   ]
  },
  {
   "cell_type": "code",
   "execution_count": 42,
   "metadata": {},
   "outputs": [],
   "source": [
    "model.add(Flatten())\n"
   ]
  },
  {
   "cell_type": "code",
   "execution_count": 63,
   "metadata": {},
   "outputs": [
    {
     "name": "stderr",
     "output_type": "stream",
     "text": [
      "C:\\Users\\yusuf.DESKTOP-AI85RPE\\anaconda3\\envs\\envipython\\lib\\site-packages\\ipykernel_launcher.py:1: UserWarning: Update your `Dense` call to the Keras 2 API: `Dense(activation=\"relu\", units=50, kernel_initializer=\"uniform\")`\n",
      "  \"\"\"Entry point for launching an IPython kernel.\n"
     ]
    }
   ],
   "source": [
    "model.add(Dense(output_dim=50, init=\"uniform\",activation='relu'))\n"
   ]
  },
  {
   "cell_type": "code",
   "execution_count": 70,
   "metadata": {},
   "outputs": [
    {
     "name": "stderr",
     "output_type": "stream",
     "text": [
      "C:\\Users\\yusuf.DESKTOP-AI85RPE\\anaconda3\\envs\\envipython\\lib\\site-packages\\ipykernel_launcher.py:1: UserWarning: Update your `Dense` call to the Keras 2 API: `Dense(activation=\"sigmoid\", units=1, kernel_initializer=\"uniform\")`\n",
      "  \"\"\"Entry point for launching an IPython kernel.\n"
     ]
    }
   ],
   "source": [
    "model.add(Dense(output_dim=1,activation ='sigmoid',init='uniform'))"
   ]
  },
  {
   "cell_type": "code",
   "execution_count": 71,
   "metadata": {},
   "outputs": [],
   "source": [
    "from keras.preprocessing.image import ImageDataGenerator \n",
    "train_datagen=ImageDataGenerator(rescale=1./255,shear_range=0.2,zoom_range=0.2,horizontal_flip=True)\n",
    "test_datagen=ImageDataGenerator(rescale=1)\n",
    "val_datagen=ImageDataGenerator(rescale=1)"
   ]
  },
  {
   "cell_type": "code",
   "execution_count": 72,
   "metadata": {},
   "outputs": [
    {
     "name": "stdout",
     "output_type": "stream",
     "text": [
      "Found 5216 images belonging to 2 classes.\n",
      "Found 624 images belonging to 2 classes.\n"
     ]
    }
   ],
   "source": [
    "x_train = train_datagen.flow_from_directory(r'C:\\Users\\yusuf.DESKTOP-AI85RPE\\Desktop\\Pneumonia Prediction\\chest_xray\\chest_xray\\train',target_size=(64,64),batch_size=32,class_mode='binary')\n",
    "x_test = test_datagen.flow_from_directory(r'C:\\Users\\yusuf.DESKTOP-AI85RPE\\Desktop\\Pneumonia Prediction\\chest_xray\\chest_xray\\test',target_size=(64,64),batch_size=32,class_mode='binary')\n"
   ]
  },
  {
   "cell_type": "code",
   "execution_count": 73,
   "metadata": {},
   "outputs": [
    {
     "name": "stdout",
     "output_type": "stream",
     "text": [
      "{'NORMAL': 0, 'PNEUMONIA': 1}\n"
     ]
    }
   ],
   "source": [
    "print(x_train.class_indices) # in this u will get normal as 0 and pneumonia as 1 so if it is cats it will be 0"
   ]
  },
  {
   "cell_type": "code",
   "execution_count": 74,
   "metadata": {},
   "outputs": [],
   "source": [
    "model.compile(loss='binary_crossentropy',optimizer =\"adam\",metrics=[\"accuracy\"])"
   ]
  },
  {
   "cell_type": "code",
   "execution_count": 75,
   "metadata": {},
   "outputs": [
    {
     "name": "stdout",
     "output_type": "stream",
     "text": [
      "Epoch 1/25\n",
      " 2/52 [>.............................] - ETA: 11:10 - loss: 0.6719 - acc: 0.7969"
     ]
    },
    {
     "name": "stderr",
     "output_type": "stream",
     "text": [
      "C:\\Users\\yusuf.DESKTOP-AI85RPE\\anaconda3\\envs\\envipython\\lib\\site-packages\\keras\\callbacks.py:122: UserWarning: Method on_batch_end() is slow compared to the batch update (0.233465). Check your callbacks.\n",
      "  % delta_t_median)\n"
     ]
    },
    {
     "name": "stdout",
     "output_type": "stream",
     "text": [
      "52/52 [==============================] - 150s 3s/step - loss: 0.6305 - acc: 0.7458 - val_loss: 0.6595 - val_acc: 0.6255\n",
      "Epoch 2/25\n",
      "52/52 [==============================] - 139s 3s/step - loss: 0.5763 - acc: 0.7314 - val_loss: 0.6890 - val_acc: 0.6245\n",
      "Epoch 3/25\n",
      "52/52 [==============================] - 127s 2s/step - loss: 0.5277 - acc: 0.7494 - val_loss: 0.6794 - val_acc: 0.6240\n",
      "Epoch 4/25\n",
      "52/52 [==============================] - 105s 2s/step - loss: 0.5048 - acc: 0.7410 - val_loss: 0.7365 - val_acc: 0.6265\n",
      "Epoch 5/25\n",
      "52/52 [==============================] - 108s 2s/step - loss: 0.4833 - acc: 0.7344 - val_loss: 0.7261 - val_acc: 0.6245\n",
      "Epoch 6/25\n",
      "52/52 [==============================] - 97s 2s/step - loss: 0.4463 - acc: 0.7476 - val_loss: 0.6461 - val_acc: 0.6275\n",
      "Epoch 7/25\n",
      "52/52 [==============================] - 143s 3s/step - loss: 0.4224 - acc: 0.7590 - val_loss: 0.6620 - val_acc: 0.6190\n",
      "Epoch 8/25\n",
      "52/52 [==============================] - 180s 3s/step - loss: 0.4316 - acc: 0.7422 - val_loss: 0.7341 - val_acc: 0.6270\n",
      "Epoch 9/25\n",
      "52/52 [==============================] - 138s 3s/step - loss: 0.4155 - acc: 0.7410 - val_loss: 0.6020 - val_acc: 0.6260\n",
      "Epoch 10/25\n",
      "52/52 [==============================] - 234s 5s/step - loss: 0.4109 - acc: 0.7278 - val_loss: 0.6862 - val_acc: 0.6255\n",
      "Epoch 11/25\n",
      "52/52 [==============================] - 129s 2s/step - loss: 0.3808 - acc: 0.7404 - val_loss: 0.5577 - val_acc: 0.6240\n",
      "Epoch 12/25\n",
      "52/52 [==============================] - 142s 3s/step - loss: 0.3502 - acc: 0.7614 - val_loss: 0.7219 - val_acc: 0.6250\n",
      "Epoch 13/25\n",
      "52/52 [==============================] - 135s 3s/step - loss: 0.3555 - acc: 0.7386 - val_loss: 0.7174 - val_acc: 0.6280\n",
      "Epoch 14/25\n",
      "52/52 [==============================] - 135s 3s/step - loss: 0.3493 - acc: 0.7230 - val_loss: 0.6539 - val_acc: 0.6215\n",
      "Epoch 15/25\n",
      "52/52 [==============================] - 116s 2s/step - loss: 0.3082 - acc: 0.7530 - val_loss: 0.8286 - val_acc: 0.6265\n",
      "Epoch 16/25\n",
      "52/52 [==============================] - 145s 3s/step - loss: 0.2877 - acc: 0.7554 - val_loss: 0.6897 - val_acc: 0.6230\n",
      "Epoch 17/25\n",
      "52/52 [==============================] - 207s 4s/step - loss: 0.2915 - acc: 0.7440 - val_loss: 0.9962 - val_acc: 0.6270\n",
      "Epoch 18/25\n",
      "52/52 [==============================] - 136s 3s/step - loss: 0.2904 - acc: 0.7776 - val_loss: 0.9948 - val_acc: 0.6645\n",
      "Epoch 19/25\n",
      "52/52 [==============================] - 109s 2s/step - loss: 0.2647 - acc: 0.9585 - val_loss: 0.4565 - val_acc: 0.8165\n",
      "Epoch 20/25\n",
      "52/52 [==============================] - 162s 3s/step - loss: 0.2474 - acc: 0.9585 - val_loss: 0.5817 - val_acc: 0.8407\n",
      "Epoch 21/25\n",
      "52/52 [==============================] - 118s 2s/step - loss: 0.2470 - acc: 0.9513 - val_loss: 0.6982 - val_acc: 0.8035\n",
      "Epoch 22/25\n",
      "52/52 [==============================] - 98s 2s/step - loss: 0.2369 - acc: 0.9465 - val_loss: 1.0200 - val_acc: 0.6950\n",
      "Epoch 23/25\n",
      "52/52 [==============================] - 91s 2s/step - loss: 0.2256 - acc: 0.9561 - val_loss: 0.7165 - val_acc: 0.7985\n",
      "Epoch 24/25\n",
      "52/52 [==============================] - 114s 2s/step - loss: 0.2228 - acc: 0.9549 - val_loss: 0.5978 - val_acc: 0.8440\n",
      "Epoch 25/25\n",
      "52/52 [==============================] - 143s 3s/step - loss: 0.2129 - acc: 0.9543 - val_loss: 0.9319 - val_acc: 0.7319\n"
     ]
    },
    {
     "data": {
      "text/plain": [
       "<keras.callbacks.History at 0x22bd5fb2cc0>"
      ]
     },
     "execution_count": 75,
     "metadata": {},
     "output_type": "execute_result"
    }
   ],
   "source": [
    "model.fit_generator(x_train,steps_per_epoch=52,epochs=25,validation_data=x_test,validation_steps=64)"
   ]
  },
  {
   "cell_type": "code",
   "execution_count": 76,
   "metadata": {},
   "outputs": [
    {
     "name": "stdout",
     "output_type": "stream",
     "text": [
      "saved\n"
     ]
    }
   ],
   "source": [
    "model.save(\"pneumonia03.h5\")\n",
    "print('saved')"
   ]
  },
  {
   "cell_type": "code",
   "execution_count": null,
   "metadata": {},
   "outputs": [],
   "source": []
  },
  {
   "cell_type": "markdown",
   "metadata": {},
   "source": [
    "# PNEUMONIA PREDICTION"
   ]
  },
  {
   "cell_type": "code",
   "execution_count": 77,
   "metadata": {},
   "outputs": [],
   "source": [
    "from keras.models import load_model\n",
    "from keras.preprocessing import image "
   ]
  },
  {
   "cell_type": "code",
   "execution_count": 78,
   "metadata": {},
   "outputs": [],
   "source": [
    "model=load_model(\"pneumonia02.h5\")"
   ]
  },
  {
   "cell_type": "code",
   "execution_count": 79,
   "metadata": {},
   "outputs": [],
   "source": [
    "img=image.load_img(r\"C:\\Users\\yusuf.DESKTOP-AI85RPE\\Desktop\\Pneumonia Prediction\\chest_xray\\chest_xray\\train\\NORMAL\\IM-0117-0001.jpeg\",target_size=(64,64))"
   ]
  },
  {
   "cell_type": "code",
   "execution_count": 80,
   "metadata": {},
   "outputs": [],
   "source": [
    "x=image.img_to_array(img)\n",
    "x= np.expand_dims(x, axis=0)"
   ]
  },
  {
   "cell_type": "code",
   "execution_count": 81,
   "metadata": {},
   "outputs": [],
   "source": [
    "pred= model.predict_classes(x)"
   ]
  },
  {
   "cell_type": "code",
   "execution_count": 82,
   "metadata": {},
   "outputs": [
    {
     "data": {
      "text/plain": [
       "array([[0]])"
      ]
     },
     "execution_count": 82,
     "metadata": {},
     "output_type": "execute_result"
    }
   ],
   "source": [
    "pred"
   ]
  },
  {
   "cell_type": "code",
   "execution_count": null,
   "metadata": {},
   "outputs": [],
   "source": []
  }
 ],
 "metadata": {
  "kernelspec": {
   "display_name": "Python 3",
   "language": "python",
   "name": "python3"
  },
  "language_info": {
   "codemirror_mode": {
    "name": "ipython",
    "version": 3
   },
   "file_extension": ".py",
   "mimetype": "text/x-python",
   "name": "python",
   "nbconvert_exporter": "python",
   "pygments_lexer": "ipython3",
   "version": "3.6.10"
  }
 },
 "nbformat": 4,
 "nbformat_minor": 4
}
